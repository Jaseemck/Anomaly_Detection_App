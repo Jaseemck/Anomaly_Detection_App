{
  "nbformat": 4,
  "nbformat_minor": 0,
  "metadata": {
    "colab": {
      "name": "AD using FL Kaggle.ipynb",
      "provenance": [],
      "collapsed_sections": []
    },
    "kernelspec": {
      "name": "python3",
      "display_name": "Python 3"
    }
  },
  "cells": [
    {
      "cell_type": "code",
      "metadata": {
        "id": "vhblbhAC2T42",
        "colab_type": "code",
        "outputId": "91d382b2-d645-4c66-830c-f9624de0323f",
        "colab": {
          "base_uri": "https://localhost:8080/",
          "height": 124
        }
      },
      "source": [
        "from google.colab import drive\n",
        "drive.mount('/content/drive')"
      ],
      "execution_count": 1,
      "outputs": [
        {
          "output_type": "stream",
          "text": [
            "Go to this URL in a browser: https://accounts.google.com/o/oauth2/auth?client_id=947318989803-6bn6qk8qdgf4n4g3pfee6491hc0brc4i.apps.googleusercontent.com&redirect_uri=urn%3aietf%3awg%3aoauth%3a2.0%3aoob&response_type=code&scope=email%20https%3a%2f%2fwww.googleapis.com%2fauth%2fdocs.test%20https%3a%2f%2fwww.googleapis.com%2fauth%2fdrive%20https%3a%2f%2fwww.googleapis.com%2fauth%2fdrive.photos.readonly%20https%3a%2f%2fwww.googleapis.com%2fauth%2fpeopleapi.readonly\n",
            "\n",
            "Enter your authorization code:\n",
            "··········\n",
            "Mounted at /content/drive\n"
          ],
          "name": "stdout"
        }
      ]
    },
    {
      "cell_type": "code",
      "metadata": {
        "id": "cGQQh5JL3Iuy",
        "colab_type": "code",
        "outputId": "5c1628b9-b6fb-4328-830e-b7b8b887c857",
        "colab": {
          "base_uri": "https://localhost:8080/",
          "height": 34
        }
      },
      "source": [
        "import os\n",
        "os.chdir('/content/drive/My Drive/FinalYearProject Coding Phase')\n",
        "print(os.getcwd())"
      ],
      "execution_count": 4,
      "outputs": [
        {
          "output_type": "stream",
          "text": [
            "/content/drive/My Drive/FinalYearProject Coding Phase\n"
          ],
          "name": "stdout"
        }
      ]
    },
    {
      "cell_type": "code",
      "metadata": {
        "id": "eA29EX0w3fBZ",
        "colab_type": "code",
        "colab": {
          "base_uri": "https://localhost:8080/",
          "height": 72
        },
        "outputId": "dcab386d-7e87-41dc-d118-f607431c01a0"
      },
      "source": [
        "import numpy as np\n",
        "import pandas as pd\n",
        "import matplotlib.pyplot as plt\n",
        "import seaborn as sns"
      ],
      "execution_count": 5,
      "outputs": [
        {
          "output_type": "stream",
          "text": [
            "/usr/local/lib/python3.6/dist-packages/statsmodels/tools/_testing.py:19: FutureWarning: pandas.util.testing is deprecated. Use the functions in the public API at pandas.testing instead.\n",
            "  import pandas.util.testing as tm\n"
          ],
          "name": "stderr"
        }
      ]
    },
    {
      "cell_type": "code",
      "metadata": {
        "id": "wNxyIlzG3kXL",
        "colab_type": "code",
        "outputId": "fcb94cfb-cc91-40d7-a1d4-1b74ad06181d",
        "colab": {
          "base_uri": "https://localhost:8080/",
          "height": 104
        }
      },
      "source": [
        "maindataset_path = \"/content/drive/My Drive/FinalYearProject Coding Phase/iotdataset1.csv\"\n",
        "data = pd.read_csv(maindataset_path)\n",
        "print(data.columns)"
      ],
      "execution_count": 6,
      "outputs": [
        {
          "output_type": "stream",
          "text": [
            "Index(['sourceID', 'sourceAddress', 'sourceType', 'sourceLocation',\n",
            "       'destinationServiceAddress', 'destinationServiceType',\n",
            "       'destinationLocation', 'accessedNodeAddress', 'accessedNodeType',\n",
            "       'operation', 'value', 'timestamp', 'normality'],\n",
            "      dtype='object')\n"
          ],
          "name": "stdout"
        }
      ]
    },
    {
      "cell_type": "code",
      "metadata": {
        "id": "95XmO9143qjk",
        "colab_type": "code",
        "outputId": "1d3e8d11-0615-4a25-bd2e-9f6c421b3c1a",
        "colab": {
          "base_uri": "https://localhost:8080/",
          "height": 313
        }
      },
      "source": [
        "data.head()"
      ],
      "execution_count": 7,
      "outputs": [
        {
          "output_type": "execute_result",
          "data": {
            "text/html": [
              "<div>\n",
              "<style scoped>\n",
              "    .dataframe tbody tr th:only-of-type {\n",
              "        vertical-align: middle;\n",
              "    }\n",
              "\n",
              "    .dataframe tbody tr th {\n",
              "        vertical-align: top;\n",
              "    }\n",
              "\n",
              "    .dataframe thead th {\n",
              "        text-align: right;\n",
              "    }\n",
              "</style>\n",
              "<table border=\"1\" class=\"dataframe\">\n",
              "  <thead>\n",
              "    <tr style=\"text-align: right;\">\n",
              "      <th></th>\n",
              "      <th>sourceID</th>\n",
              "      <th>sourceAddress</th>\n",
              "      <th>sourceType</th>\n",
              "      <th>sourceLocation</th>\n",
              "      <th>destinationServiceAddress</th>\n",
              "      <th>destinationServiceType</th>\n",
              "      <th>destinationLocation</th>\n",
              "      <th>accessedNodeAddress</th>\n",
              "      <th>accessedNodeType</th>\n",
              "      <th>operation</th>\n",
              "      <th>value</th>\n",
              "      <th>timestamp</th>\n",
              "      <th>normality</th>\n",
              "    </tr>\n",
              "  </thead>\n",
              "  <tbody>\n",
              "    <tr>\n",
              "      <th>0</th>\n",
              "      <td>lightcontrol2</td>\n",
              "      <td>/agent2/lightcontrol2</td>\n",
              "      <td>/lightControler</td>\n",
              "      <td>BedroomParents</td>\n",
              "      <td>/agent2/lightcontrol2</td>\n",
              "      <td>/lightControler</td>\n",
              "      <td>BedroomParents</td>\n",
              "      <td>/agent2/lightcontrol2</td>\n",
              "      <td>/lightControler</td>\n",
              "      <td>registerService</td>\n",
              "      <td>none</td>\n",
              "      <td>1520031600000</td>\n",
              "      <td>normal</td>\n",
              "    </tr>\n",
              "    <tr>\n",
              "      <th>1</th>\n",
              "      <td>lightcontrol3</td>\n",
              "      <td>/agent3/lightcontrol3</td>\n",
              "      <td>/lightControler</td>\n",
              "      <td>Dinningroom</td>\n",
              "      <td>/agent3/lightcontrol3</td>\n",
              "      <td>/lightControler</td>\n",
              "      <td>Dinningroom</td>\n",
              "      <td>/agent3/lightcontrol3</td>\n",
              "      <td>/lightControler</td>\n",
              "      <td>registerService</td>\n",
              "      <td>none</td>\n",
              "      <td>1520031603269</td>\n",
              "      <td>normal</td>\n",
              "    </tr>\n",
              "    <tr>\n",
              "      <th>2</th>\n",
              "      <td>lightcontrol1</td>\n",
              "      <td>/agent1/lightcontrol1</td>\n",
              "      <td>/lightControler</td>\n",
              "      <td>BedroomChildren</td>\n",
              "      <td>/agent1/lightcontrol1</td>\n",
              "      <td>/lightControler</td>\n",
              "      <td>BedroomChildren</td>\n",
              "      <td>/agent1/lightcontrol1</td>\n",
              "      <td>/lightControler</td>\n",
              "      <td>registerService</td>\n",
              "      <td>none</td>\n",
              "      <td>1520031603279</td>\n",
              "      <td>normal</td>\n",
              "    </tr>\n",
              "    <tr>\n",
              "      <th>3</th>\n",
              "      <td>lightcontrol4</td>\n",
              "      <td>/agent4/lightcontrol4</td>\n",
              "      <td>/lightControler</td>\n",
              "      <td>Kitchen</td>\n",
              "      <td>/agent4/lightcontrol4</td>\n",
              "      <td>/lightControler</td>\n",
              "      <td>Kitchen</td>\n",
              "      <td>/agent4/lightcontrol4</td>\n",
              "      <td>/lightControler</td>\n",
              "      <td>registerService</td>\n",
              "      <td>none</td>\n",
              "      <td>1520031603290</td>\n",
              "      <td>normal</td>\n",
              "    </tr>\n",
              "    <tr>\n",
              "      <th>4</th>\n",
              "      <td>movement4</td>\n",
              "      <td>/agent4/movement4</td>\n",
              "      <td>/movementSensor</td>\n",
              "      <td>Kitchen</td>\n",
              "      <td>/agent4/movement4</td>\n",
              "      <td>/movementSensor</td>\n",
              "      <td>Kitchen</td>\n",
              "      <td>/agent4/movement4</td>\n",
              "      <td>/movementSensor</td>\n",
              "      <td>registerService</td>\n",
              "      <td>none</td>\n",
              "      <td>1520031603464</td>\n",
              "      <td>normal</td>\n",
              "    </tr>\n",
              "  </tbody>\n",
              "</table>\n",
              "</div>"
            ],
            "text/plain": [
              "        sourceID          sourceAddress  ...      timestamp normality\n",
              "0  lightcontrol2  /agent2/lightcontrol2  ...  1520031600000    normal\n",
              "1  lightcontrol3  /agent3/lightcontrol3  ...  1520031603269    normal\n",
              "2  lightcontrol1  /agent1/lightcontrol1  ...  1520031603279    normal\n",
              "3  lightcontrol4  /agent4/lightcontrol4  ...  1520031603290    normal\n",
              "4      movement4      /agent4/movement4  ...  1520031603464    normal\n",
              "\n",
              "[5 rows x 13 columns]"
            ]
          },
          "metadata": {
            "tags": []
          },
          "execution_count": 7
        }
      ]
    },
    {
      "cell_type": "code",
      "metadata": {
        "id": "A1leWvMbP3ex",
        "colab_type": "code",
        "outputId": "0aea66a9-6910-4825-f69a-ffc228136c6c",
        "colab": {
          "base_uri": "https://localhost:8080/",
          "height": 617
        }
      },
      "source": [
        "data[data['normality']!='normal']"
      ],
      "execution_count": 8,
      "outputs": [
        {
          "output_type": "execute_result",
          "data": {
            "text/html": [
              "<div>\n",
              "<style scoped>\n",
              "    .dataframe tbody tr th:only-of-type {\n",
              "        vertical-align: middle;\n",
              "    }\n",
              "\n",
              "    .dataframe tbody tr th {\n",
              "        vertical-align: top;\n",
              "    }\n",
              "\n",
              "    .dataframe thead th {\n",
              "        text-align: right;\n",
              "    }\n",
              "</style>\n",
              "<table border=\"1\" class=\"dataframe\">\n",
              "  <thead>\n",
              "    <tr style=\"text-align: right;\">\n",
              "      <th></th>\n",
              "      <th>sourceID</th>\n",
              "      <th>sourceAddress</th>\n",
              "      <th>sourceType</th>\n",
              "      <th>sourceLocation</th>\n",
              "      <th>destinationServiceAddress</th>\n",
              "      <th>destinationServiceType</th>\n",
              "      <th>destinationLocation</th>\n",
              "      <th>accessedNodeAddress</th>\n",
              "      <th>accessedNodeType</th>\n",
              "      <th>operation</th>\n",
              "      <th>value</th>\n",
              "      <th>timestamp</th>\n",
              "      <th>normality</th>\n",
              "    </tr>\n",
              "  </thead>\n",
              "  <tbody>\n",
              "    <tr>\n",
              "      <th>1301</th>\n",
              "      <td>washingmachine1</td>\n",
              "      <td>/agent6/washingmachine1</td>\n",
              "      <td>/washingService</td>\n",
              "      <td>Bathroom</td>\n",
              "      <td>/agent1/lightcontrol1</td>\n",
              "      <td>/lightControler</td>\n",
              "      <td>BedroomChildren</td>\n",
              "      <td>/agent1/lightcontrol1/lightOn</td>\n",
              "      <td>/derived/boolean</td>\n",
              "      <td>write</td>\n",
              "      <td>1</td>\n",
              "      <td>1520032371775</td>\n",
              "      <td>anomalous(scan)</td>\n",
              "    </tr>\n",
              "    <tr>\n",
              "      <th>1303</th>\n",
              "      <td>washingmachine1</td>\n",
              "      <td>/agent6/washingmachine1</td>\n",
              "      <td>/washingService</td>\n",
              "      <td>Bathroom</td>\n",
              "      <td>/agent2/lightcontrol2</td>\n",
              "      <td>/lightControler</td>\n",
              "      <td>BedroomParents</td>\n",
              "      <td>/agent2/lightcontrol2/lightOn</td>\n",
              "      <td>/derived/boolean</td>\n",
              "      <td>write</td>\n",
              "      <td>1</td>\n",
              "      <td>1520032372093</td>\n",
              "      <td>anomalous(scan)</td>\n",
              "    </tr>\n",
              "    <tr>\n",
              "      <th>1312</th>\n",
              "      <td>washingmachine1</td>\n",
              "      <td>/agent6/washingmachine1</td>\n",
              "      <td>/washingService</td>\n",
              "      <td>Bathroom</td>\n",
              "      <td>/agent2/tempin2</td>\n",
              "      <td>/sensorService</td>\n",
              "      <td>BedroomParents</td>\n",
              "      <td>/agent2/tempin2</td>\n",
              "      <td>/sensorService</td>\n",
              "      <td>read</td>\n",
              "      <td>19.9497</td>\n",
              "      <td>1520032373151</td>\n",
              "      <td>anomalous(scan)</td>\n",
              "    </tr>\n",
              "    <tr>\n",
              "      <th>1316</th>\n",
              "      <td>washingmachine1</td>\n",
              "      <td>/agent6/washingmachine1</td>\n",
              "      <td>/washingService</td>\n",
              "      <td>Bathroom</td>\n",
              "      <td>/agent3/tempin3</td>\n",
              "      <td>/sensorService</td>\n",
              "      <td>Dinningroom</td>\n",
              "      <td>/agent3/tempin3</td>\n",
              "      <td>/sensorService</td>\n",
              "      <td>read</td>\n",
              "      <td>19.9497</td>\n",
              "      <td>1520032373984</td>\n",
              "      <td>anomalous(scan)</td>\n",
              "    </tr>\n",
              "    <tr>\n",
              "      <th>1322</th>\n",
              "      <td>washingmachine1</td>\n",
              "      <td>/agent6/washingmachine1</td>\n",
              "      <td>/washingService</td>\n",
              "      <td>Bathroom</td>\n",
              "      <td>/agent4/tempin4</td>\n",
              "      <td>/sensorService</td>\n",
              "      <td>Kitchen</td>\n",
              "      <td>/agent4/tempin4</td>\n",
              "      <td>/sensorService</td>\n",
              "      <td>read</td>\n",
              "      <td>19.9497</td>\n",
              "      <td>1520032374695</td>\n",
              "      <td>anomalous(scan)</td>\n",
              "    </tr>\n",
              "    <tr>\n",
              "      <th>...</th>\n",
              "      <td>...</td>\n",
              "      <td>...</td>\n",
              "      <td>...</td>\n",
              "      <td>...</td>\n",
              "      <td>...</td>\n",
              "      <td>...</td>\n",
              "      <td>...</td>\n",
              "      <td>...</td>\n",
              "      <td>...</td>\n",
              "      <td>...</td>\n",
              "      <td>...</td>\n",
              "      <td>...</td>\n",
              "      <td>...</td>\n",
              "    </tr>\n",
              "    <tr>\n",
              "      <th>357221</th>\n",
              "      <td>tempin14</td>\n",
              "      <td>/agent14/tempin14</td>\n",
              "      <td>/sensorService</td>\n",
              "      <td>Showerroom</td>\n",
              "      <td>/agent12/doorlock3</td>\n",
              "      <td>/doorLockService</td>\n",
              "      <td>Entrance</td>\n",
              "      <td>/agent12/doorlock3/open</td>\n",
              "      <td>/basic/text</td>\n",
              "      <td>write</td>\n",
              "      <td>true</td>\n",
              "      <td>1520117839563</td>\n",
              "      <td>anomalous(malitiousControl)</td>\n",
              "    </tr>\n",
              "    <tr>\n",
              "      <th>357508</th>\n",
              "      <td>tempin13</td>\n",
              "      <td>/agent13/tempin13</td>\n",
              "      <td>/sensorService</td>\n",
              "      <td>Bedroom</td>\n",
              "      <td>/agent12/doorlock3</td>\n",
              "      <td>/doorLockService</td>\n",
              "      <td>Entrance</td>\n",
              "      <td>/agent12/doorlock3/open</td>\n",
              "      <td>/basic/text</td>\n",
              "      <td>write</td>\n",
              "      <td>true</td>\n",
              "      <td>1520117900755</td>\n",
              "      <td>anomalous(malitiousControl)</td>\n",
              "    </tr>\n",
              "    <tr>\n",
              "      <th>357509</th>\n",
              "      <td>tempin14</td>\n",
              "      <td>/agent14/tempin14</td>\n",
              "      <td>/sensorService</td>\n",
              "      <td>Showerroom</td>\n",
              "      <td>/agent12/doorlock3</td>\n",
              "      <td>/doorLockService</td>\n",
              "      <td>Entrance</td>\n",
              "      <td>/agent12/doorlock3/open</td>\n",
              "      <td>/basic/text</td>\n",
              "      <td>write</td>\n",
              "      <td>true</td>\n",
              "      <td>1520117900758</td>\n",
              "      <td>anomalous(malitiousControl)</td>\n",
              "    </tr>\n",
              "    <tr>\n",
              "      <th>357796</th>\n",
              "      <td>tempin13</td>\n",
              "      <td>/agent13/tempin13</td>\n",
              "      <td>/sensorService</td>\n",
              "      <td>Bedroom</td>\n",
              "      <td>/agent12/doorlock3</td>\n",
              "      <td>/doorLockService</td>\n",
              "      <td>Entrance</td>\n",
              "      <td>/agent12/doorlock3/open</td>\n",
              "      <td>/basic/text</td>\n",
              "      <td>write</td>\n",
              "      <td>true</td>\n",
              "      <td>1520117961449</td>\n",
              "      <td>anomalous(malitiousControl)</td>\n",
              "    </tr>\n",
              "    <tr>\n",
              "      <th>357797</th>\n",
              "      <td>tempin14</td>\n",
              "      <td>/agent14/tempin14</td>\n",
              "      <td>/sensorService</td>\n",
              "      <td>Showerroom</td>\n",
              "      <td>/agent12/doorlock3</td>\n",
              "      <td>/doorLockService</td>\n",
              "      <td>Entrance</td>\n",
              "      <td>/agent12/doorlock3/open</td>\n",
              "      <td>/basic/text</td>\n",
              "      <td>write</td>\n",
              "      <td>true</td>\n",
              "      <td>1520117961467</td>\n",
              "      <td>anomalous(malitiousControl)</td>\n",
              "    </tr>\n",
              "  </tbody>\n",
              "</table>\n",
              "<p>10017 rows × 13 columns</p>\n",
              "</div>"
            ],
            "text/plain": [
              "               sourceID  ...                    normality\n",
              "1301    washingmachine1  ...              anomalous(scan)\n",
              "1303    washingmachine1  ...              anomalous(scan)\n",
              "1312    washingmachine1  ...              anomalous(scan)\n",
              "1316    washingmachine1  ...              anomalous(scan)\n",
              "1322    washingmachine1  ...              anomalous(scan)\n",
              "...                 ...  ...                          ...\n",
              "357221         tempin14  ...  anomalous(malitiousControl)\n",
              "357508         tempin13  ...  anomalous(malitiousControl)\n",
              "357509         tempin14  ...  anomalous(malitiousControl)\n",
              "357796         tempin13  ...  anomalous(malitiousControl)\n",
              "357797         tempin14  ...  anomalous(malitiousControl)\n",
              "\n",
              "[10017 rows x 13 columns]"
            ]
          },
          "metadata": {
            "tags": []
          },
          "execution_count": 8
        }
      ]
    },
    {
      "cell_type": "markdown",
      "metadata": {
        "id": "T4rxc9Xt30n8",
        "colab_type": "text"
      },
      "source": [
        "**Preprocessing (as per the base paper)**"
      ]
    },
    {
      "cell_type": "code",
      "metadata": {
        "id": "pZC7Pz3P3soH",
        "colab_type": "code",
        "colab": {}
      },
      "source": [
        "data.loc[data.value=='twenty',\"value\"] = '20.0'\n",
        "data.loc[data.value=='false',\"value\"] = '0'\n",
        "data.loc[data.value=='true',\"value\"] = '1'\n",
        "data.loc[data.value=='none',\"value\"] = '0'\n",
        "data.loc[data.value=='0',\"value\"] = '0.0'\n",
        "data['value'] = data['value'].fillna(value='60.0')\n",
        "data = data.drop(data.index[data.value.str.contains(\"org.*\")])\n",
        "data.value = data.value.astype(float)"
      ],
      "execution_count": 0,
      "outputs": []
    },
    {
      "cell_type": "markdown",
      "metadata": {
        "id": "9O4lgSb84KVi",
        "colab_type": "text"
      },
      "source": [
        "**Data Cleaning**"
      ]
    },
    {
      "cell_type": "code",
      "metadata": {
        "id": "4oZnt94m397_",
        "colab_type": "code",
        "outputId": "69eb51da-704c-4d96-b908-a5fa583462d3",
        "colab": {
          "base_uri": "https://localhost:8080/",
          "height": 313
        }
      },
      "source": [
        "data['accessedNodeType'] = data['accessedNodeType'].fillna(value='/Malicious')\n",
        "data.head()"
      ],
      "execution_count": 10,
      "outputs": [
        {
          "output_type": "execute_result",
          "data": {
            "text/html": [
              "<div>\n",
              "<style scoped>\n",
              "    .dataframe tbody tr th:only-of-type {\n",
              "        vertical-align: middle;\n",
              "    }\n",
              "\n",
              "    .dataframe tbody tr th {\n",
              "        vertical-align: top;\n",
              "    }\n",
              "\n",
              "    .dataframe thead th {\n",
              "        text-align: right;\n",
              "    }\n",
              "</style>\n",
              "<table border=\"1\" class=\"dataframe\">\n",
              "  <thead>\n",
              "    <tr style=\"text-align: right;\">\n",
              "      <th></th>\n",
              "      <th>sourceID</th>\n",
              "      <th>sourceAddress</th>\n",
              "      <th>sourceType</th>\n",
              "      <th>sourceLocation</th>\n",
              "      <th>destinationServiceAddress</th>\n",
              "      <th>destinationServiceType</th>\n",
              "      <th>destinationLocation</th>\n",
              "      <th>accessedNodeAddress</th>\n",
              "      <th>accessedNodeType</th>\n",
              "      <th>operation</th>\n",
              "      <th>value</th>\n",
              "      <th>timestamp</th>\n",
              "      <th>normality</th>\n",
              "    </tr>\n",
              "  </thead>\n",
              "  <tbody>\n",
              "    <tr>\n",
              "      <th>0</th>\n",
              "      <td>lightcontrol2</td>\n",
              "      <td>/agent2/lightcontrol2</td>\n",
              "      <td>/lightControler</td>\n",
              "      <td>BedroomParents</td>\n",
              "      <td>/agent2/lightcontrol2</td>\n",
              "      <td>/lightControler</td>\n",
              "      <td>BedroomParents</td>\n",
              "      <td>/agent2/lightcontrol2</td>\n",
              "      <td>/lightControler</td>\n",
              "      <td>registerService</td>\n",
              "      <td>0.0</td>\n",
              "      <td>1520031600000</td>\n",
              "      <td>normal</td>\n",
              "    </tr>\n",
              "    <tr>\n",
              "      <th>1</th>\n",
              "      <td>lightcontrol3</td>\n",
              "      <td>/agent3/lightcontrol3</td>\n",
              "      <td>/lightControler</td>\n",
              "      <td>Dinningroom</td>\n",
              "      <td>/agent3/lightcontrol3</td>\n",
              "      <td>/lightControler</td>\n",
              "      <td>Dinningroom</td>\n",
              "      <td>/agent3/lightcontrol3</td>\n",
              "      <td>/lightControler</td>\n",
              "      <td>registerService</td>\n",
              "      <td>0.0</td>\n",
              "      <td>1520031603269</td>\n",
              "      <td>normal</td>\n",
              "    </tr>\n",
              "    <tr>\n",
              "      <th>2</th>\n",
              "      <td>lightcontrol1</td>\n",
              "      <td>/agent1/lightcontrol1</td>\n",
              "      <td>/lightControler</td>\n",
              "      <td>BedroomChildren</td>\n",
              "      <td>/agent1/lightcontrol1</td>\n",
              "      <td>/lightControler</td>\n",
              "      <td>BedroomChildren</td>\n",
              "      <td>/agent1/lightcontrol1</td>\n",
              "      <td>/lightControler</td>\n",
              "      <td>registerService</td>\n",
              "      <td>0.0</td>\n",
              "      <td>1520031603279</td>\n",
              "      <td>normal</td>\n",
              "    </tr>\n",
              "    <tr>\n",
              "      <th>3</th>\n",
              "      <td>lightcontrol4</td>\n",
              "      <td>/agent4/lightcontrol4</td>\n",
              "      <td>/lightControler</td>\n",
              "      <td>Kitchen</td>\n",
              "      <td>/agent4/lightcontrol4</td>\n",
              "      <td>/lightControler</td>\n",
              "      <td>Kitchen</td>\n",
              "      <td>/agent4/lightcontrol4</td>\n",
              "      <td>/lightControler</td>\n",
              "      <td>registerService</td>\n",
              "      <td>0.0</td>\n",
              "      <td>1520031603290</td>\n",
              "      <td>normal</td>\n",
              "    </tr>\n",
              "    <tr>\n",
              "      <th>4</th>\n",
              "      <td>movement4</td>\n",
              "      <td>/agent4/movement4</td>\n",
              "      <td>/movementSensor</td>\n",
              "      <td>Kitchen</td>\n",
              "      <td>/agent4/movement4</td>\n",
              "      <td>/movementSensor</td>\n",
              "      <td>Kitchen</td>\n",
              "      <td>/agent4/movement4</td>\n",
              "      <td>/movementSensor</td>\n",
              "      <td>registerService</td>\n",
              "      <td>0.0</td>\n",
              "      <td>1520031603464</td>\n",
              "      <td>normal</td>\n",
              "    </tr>\n",
              "  </tbody>\n",
              "</table>\n",
              "</div>"
            ],
            "text/plain": [
              "        sourceID          sourceAddress  ...      timestamp normality\n",
              "0  lightcontrol2  /agent2/lightcontrol2  ...  1520031600000    normal\n",
              "1  lightcontrol3  /agent3/lightcontrol3  ...  1520031603269    normal\n",
              "2  lightcontrol1  /agent1/lightcontrol1  ...  1520031603279    normal\n",
              "3  lightcontrol4  /agent4/lightcontrol4  ...  1520031603290    normal\n",
              "4      movement4      /agent4/movement4  ...  1520031603464    normal\n",
              "\n",
              "[5 rows x 13 columns]"
            ]
          },
          "metadata": {
            "tags": []
          },
          "execution_count": 10
        }
      ]
    },
    {
      "cell_type": "code",
      "metadata": {
        "id": "Z40BYSSZ4PgV",
        "colab_type": "code",
        "outputId": "e961ba51-2c91-425b-c1f6-9f34b2406518",
        "colab": {
          "base_uri": "https://localhost:8080/",
          "height": 86
        }
      },
      "source": [
        "data['normality'].unique()"
      ],
      "execution_count": 11,
      "outputs": [
        {
          "output_type": "execute_result",
          "data": {
            "text/plain": [
              "array(['normal', 'anomalous(scan)', 'anomalous(malitiousOperation)',\n",
              "       'anomalous(DoSattack)', 'anomalous(spying)',\n",
              "       'anomalous(dataProbing)', 'anomalous(wrongSetUp)',\n",
              "       'anomalous(malitiousControl)'], dtype=object)"
            ]
          },
          "metadata": {
            "tags": []
          },
          "execution_count": 11
        }
      ]
    },
    {
      "cell_type": "markdown",
      "metadata": {
        "id": "3GB42I_W4kR0",
        "colab_type": "text"
      },
      "source": [
        "**Visualization**"
      ]
    },
    {
      "cell_type": "code",
      "metadata": {
        "id": "9FW5EMjq4TaW",
        "colab_type": "code",
        "outputId": "cd2fba77-6cf0-4285-b3fb-92e14757e198",
        "colab": {
          "base_uri": "https://localhost:8080/",
          "height": 477
        }
      },
      "source": [
        "normality_count = data.normality.value_counts()\n",
        "indices = ['normal', 'DoSattack', 'scan', 'malitiousControl', 'malitiousOperation', 'spying', 'dataProbing', 'wrongSetUp']\n",
        "plt.figure(figsize=(10,5))\n",
        "ax=plt.subplot(111)\n",
        "plt.grid()\n",
        "plt.bar(indices, normality_count.values)\n",
        "plt.ylabel('Number of Occurrences', fontsize=20)\n",
        "plt.xlabel('Normality', fontsize=20)\n",
        "plt.xticks(rotation=90, fontsize=15)\n",
        "plt.yticks(fontsize=15)\n",
        "plt.show()"
      ],
      "execution_count": 12,
      "outputs": [
        {
          "output_type": "display_data",
          "data": {
            "image/png": "[encoded data removed]",
            "text/plain": [
              "<Figure size 720x360 with 1 Axes>"
            ]
          },
          "metadata": {
            "tags": [],
            "needs_background": "light"
          }
        }
      ]
    },
    {
      "cell_type": "code",
      "metadata": {
        "id": "G_k5iYGQ4nPX",
        "colab_type": "code",
        "colab": {}
      },
      "source": [
        "data = data.drop('timestamp',axis=1)"
      ],
      "execution_count": 0,
      "outputs": []
    },
    {
      "cell_type": "code",
      "metadata": {
        "id": "KRLJgepr4sKl",
        "colab_type": "code",
        "outputId": "da1f1159-94db-4656-f1ca-fc5aae448472",
        "colab": {
          "base_uri": "https://localhost:8080/",
          "height": 313
        }
      },
      "source": [
        "data.head()"
      ],
      "execution_count": 14,
      "outputs": [
        {
          "output_type": "execute_result",
          "data": {
            "text/html": [
              "<div>\n",
              "<style scoped>\n",
              "    .dataframe tbody tr th:only-of-type {\n",
              "        vertical-align: middle;\n",
              "    }\n",
              "\n",
              "    .dataframe tbody tr th {\n",
              "        vertical-align: top;\n",
              "    }\n",
              "\n",
              "    .dataframe thead th {\n",
              "        text-align: right;\n",
              "    }\n",
              "</style>\n",
              "<table border=\"1\" class=\"dataframe\">\n",
              "  <thead>\n",
              "    <tr style=\"text-align: right;\">\n",
              "      <th></th>\n",
              "      <th>sourceID</th>\n",
              "      <th>sourceAddress</th>\n",
              "      <th>sourceType</th>\n",
              "      <th>sourceLocation</th>\n",
              "      <th>destinationServiceAddress</th>\n",
              "      <th>destinationServiceType</th>\n",
              "      <th>destinationLocation</th>\n",
              "      <th>accessedNodeAddress</th>\n",
              "      <th>accessedNodeType</th>\n",
              "      <th>operation</th>\n",
              "      <th>value</th>\n",
              "      <th>normality</th>\n",
              "    </tr>\n",
              "  </thead>\n",
              "  <tbody>\n",
              "    <tr>\n",
              "      <th>0</th>\n",
              "      <td>lightcontrol2</td>\n",
              "      <td>/agent2/lightcontrol2</td>\n",
              "      <td>/lightControler</td>\n",
              "      <td>BedroomParents</td>\n",
              "      <td>/agent2/lightcontrol2</td>\n",
              "      <td>/lightControler</td>\n",
              "      <td>BedroomParents</td>\n",
              "      <td>/agent2/lightcontrol2</td>\n",
              "      <td>/lightControler</td>\n",
              "      <td>registerService</td>\n",
              "      <td>0.0</td>\n",
              "      <td>normal</td>\n",
              "    </tr>\n",
              "    <tr>\n",
              "      <th>1</th>\n",
              "      <td>lightcontrol3</td>\n",
              "      <td>/agent3/lightcontrol3</td>\n",
              "      <td>/lightControler</td>\n",
              "      <td>Dinningroom</td>\n",
              "      <td>/agent3/lightcontrol3</td>\n",
              "      <td>/lightControler</td>\n",
              "      <td>Dinningroom</td>\n",
              "      <td>/agent3/lightcontrol3</td>\n",
              "      <td>/lightControler</td>\n",
              "      <td>registerService</td>\n",
              "      <td>0.0</td>\n",
              "      <td>normal</td>\n",
              "    </tr>\n",
              "    <tr>\n",
              "      <th>2</th>\n",
              "      <td>lightcontrol1</td>\n",
              "      <td>/agent1/lightcontrol1</td>\n",
              "      <td>/lightControler</td>\n",
              "      <td>BedroomChildren</td>\n",
              "      <td>/agent1/lightcontrol1</td>\n",
              "      <td>/lightControler</td>\n",
              "      <td>BedroomChildren</td>\n",
              "      <td>/agent1/lightcontrol1</td>\n",
              "      <td>/lightControler</td>\n",
              "      <td>registerService</td>\n",
              "      <td>0.0</td>\n",
              "      <td>normal</td>\n",
              "    </tr>\n",
              "    <tr>\n",
              "      <th>3</th>\n",
              "      <td>lightcontrol4</td>\n",
              "      <td>/agent4/lightcontrol4</td>\n",
              "      <td>/lightControler</td>\n",
              "      <td>Kitchen</td>\n",
              "      <td>/agent4/lightcontrol4</td>\n",
              "      <td>/lightControler</td>\n",
              "      <td>Kitchen</td>\n",
              "      <td>/agent4/lightcontrol4</td>\n",
              "      <td>/lightControler</td>\n",
              "      <td>registerService</td>\n",
              "      <td>0.0</td>\n",
              "      <td>normal</td>\n",
              "    </tr>\n",
              "    <tr>\n",
              "      <th>4</th>\n",
              "      <td>movement4</td>\n",
              "      <td>/agent4/movement4</td>\n",
              "      <td>/movementSensor</td>\n",
              "      <td>Kitchen</td>\n",
              "      <td>/agent4/movement4</td>\n",
              "      <td>/movementSensor</td>\n",
              "      <td>Kitchen</td>\n",
              "      <td>/agent4/movement4</td>\n",
              "      <td>/movementSensor</td>\n",
              "      <td>registerService</td>\n",
              "      <td>0.0</td>\n",
              "      <td>normal</td>\n",
              "    </tr>\n",
              "  </tbody>\n",
              "</table>\n",
              "</div>"
            ],
            "text/plain": [
              "        sourceID          sourceAddress  ... value normality\n",
              "0  lightcontrol2  /agent2/lightcontrol2  ...   0.0    normal\n",
              "1  lightcontrol3  /agent3/lightcontrol3  ...   0.0    normal\n",
              "2  lightcontrol1  /agent1/lightcontrol1  ...   0.0    normal\n",
              "3  lightcontrol4  /agent4/lightcontrol4  ...   0.0    normal\n",
              "4      movement4      /agent4/movement4  ...   0.0    normal\n",
              "\n",
              "[5 rows x 12 columns]"
            ]
          },
          "metadata": {
            "tags": []
          },
          "execution_count": 14
        }
      ]
    },
    {
      "cell_type": "code",
      "metadata": {
        "id": "6KnPbwuF6yjj",
        "colab_type": "code",
        "colab": {}
      },
      "source": [
        "#The Features\n",
        "df = data.iloc[:,:-1]"
      ],
      "execution_count": 0,
      "outputs": []
    },
    {
      "cell_type": "code",
      "metadata": {
        "id": "mqDIJ8_E-rW-",
        "colab_type": "code",
        "colab": {}
      },
      "source": [
        "from sklearn.preprocessing import LabelEncoder"
      ],
      "execution_count": 0,
      "outputs": []
    },
    {
      "cell_type": "code",
      "metadata": {
        "id": "17aJ2Fz64vBV",
        "colab_type": "code",
        "colab": {}
      },
      "source": [
        "#converting features in to integers\n",
        "df = df.apply(LabelEncoder().fit_transform)"
      ],
      "execution_count": 0,
      "outputs": []
    },
    {
      "cell_type": "code",
      "metadata": {
        "id": "55VtR3Tl9rVA",
        "colab_type": "code",
        "outputId": "d82981da-c1ba-4463-c695-11d7014b3ac5",
        "colab": {
          "base_uri": "https://localhost:8080/",
          "height": 226
        }
      },
      "source": [
        "df.head()"
      ],
      "execution_count": 18,
      "outputs": [
        {
          "output_type": "execute_result",
          "data": {
            "text/html": [
              "<div>\n",
              "<style scoped>\n",
              "    .dataframe tbody tr th:only-of-type {\n",
              "        vertical-align: middle;\n",
              "    }\n",
              "\n",
              "    .dataframe tbody tr th {\n",
              "        vertical-align: top;\n",
              "    }\n",
              "\n",
              "    .dataframe thead th {\n",
              "        text-align: right;\n",
              "    }\n",
              "</style>\n",
              "<table border=\"1\" class=\"dataframe\">\n",
              "  <thead>\n",
              "    <tr style=\"text-align: right;\">\n",
              "      <th></th>\n",
              "      <th>sourceID</th>\n",
              "      <th>sourceAddress</th>\n",
              "      <th>sourceType</th>\n",
              "      <th>sourceLocation</th>\n",
              "      <th>destinationServiceAddress</th>\n",
              "      <th>destinationServiceType</th>\n",
              "      <th>destinationLocation</th>\n",
              "      <th>accessedNodeAddress</th>\n",
              "      <th>accessedNodeType</th>\n",
              "      <th>operation</th>\n",
              "      <th>value</th>\n",
              "    </tr>\n",
              "  </thead>\n",
              "  <tbody>\n",
              "    <tr>\n",
              "      <th>0</th>\n",
              "      <td>21</td>\n",
              "      <td>30</td>\n",
              "      <td>2</td>\n",
              "      <td>3</td>\n",
              "      <td>30</td>\n",
              "      <td>2</td>\n",
              "      <td>3</td>\n",
              "      <td>59</td>\n",
              "      <td>7</td>\n",
              "      <td>2</td>\n",
              "      <td>0</td>\n",
              "    </tr>\n",
              "    <tr>\n",
              "      <th>1</th>\n",
              "      <td>32</td>\n",
              "      <td>70</td>\n",
              "      <td>2</td>\n",
              "      <td>4</td>\n",
              "      <td>68</td>\n",
              "      <td>2</td>\n",
              "      <td>4</td>\n",
              "      <td>134</td>\n",
              "      <td>7</td>\n",
              "      <td>2</td>\n",
              "      <td>0</td>\n",
              "    </tr>\n",
              "    <tr>\n",
              "      <th>2</th>\n",
              "      <td>15</td>\n",
              "      <td>1</td>\n",
              "      <td>2</td>\n",
              "      <td>2</td>\n",
              "      <td>0</td>\n",
              "      <td>2</td>\n",
              "      <td>2</td>\n",
              "      <td>0</td>\n",
              "      <td>7</td>\n",
              "      <td>2</td>\n",
              "      <td>0</td>\n",
              "    </tr>\n",
              "    <tr>\n",
              "      <th>3</th>\n",
              "      <td>33</td>\n",
              "      <td>77</td>\n",
              "      <td>2</td>\n",
              "      <td>7</td>\n",
              "      <td>73</td>\n",
              "      <td>2</td>\n",
              "      <td>7</td>\n",
              "      <td>144</td>\n",
              "      <td>7</td>\n",
              "      <td>2</td>\n",
              "      <td>0</td>\n",
              "    </tr>\n",
              "    <tr>\n",
              "      <th>4</th>\n",
              "      <td>55</td>\n",
              "      <td>78</td>\n",
              "      <td>3</td>\n",
              "      <td>7</td>\n",
              "      <td>74</td>\n",
              "      <td>3</td>\n",
              "      <td>7</td>\n",
              "      <td>146</td>\n",
              "      <td>8</td>\n",
              "      <td>2</td>\n",
              "      <td>0</td>\n",
              "    </tr>\n",
              "  </tbody>\n",
              "</table>\n",
              "</div>"
            ],
            "text/plain": [
              "   sourceID  sourceAddress  sourceType  ...  accessedNodeType  operation  value\n",
              "0        21             30           2  ...                 7          2      0\n",
              "1        32             70           2  ...                 7          2      0\n",
              "2        15              1           2  ...                 7          2      0\n",
              "3        33             77           2  ...                 7          2      0\n",
              "4        55             78           3  ...                 8          2      0\n",
              "\n",
              "[5 rows x 11 columns]"
            ]
          },
          "metadata": {
            "tags": []
          },
          "execution_count": 18
        }
      ]
    },
    {
      "cell_type": "code",
      "metadata": {
        "id": "8M2JfvAI936m",
        "colab_type": "code",
        "outputId": "94c18bb2-2dc8-47aa-fba5-81646a88dd70",
        "colab": {
          "base_uri": "https://localhost:8080/",
          "height": 225
        }
      },
      "source": [
        "df.dtypes"
      ],
      "execution_count": 19,
      "outputs": [
        {
          "output_type": "execute_result",
          "data": {
            "text/plain": [
              "sourceID                     int64\n",
              "sourceAddress                int64\n",
              "sourceType                   int64\n",
              "sourceLocation               int64\n",
              "destinationServiceAddress    int64\n",
              "destinationServiceType       int64\n",
              "destinationLocation          int64\n",
              "accessedNodeAddress          int64\n",
              "accessedNodeType             int64\n",
              "operation                    int64\n",
              "value                        int64\n",
              "dtype: object"
            ]
          },
          "metadata": {
            "tags": []
          },
          "execution_count": 19
        }
      ]
    },
    {
      "cell_type": "code",
      "metadata": {
        "id": "lVk64hMV7451",
        "colab_type": "code",
        "outputId": "be312347-22c4-4919-da0c-ec590bd93dc2",
        "colab": {
          "base_uri": "https://localhost:8080/",
          "height": 226
        }
      },
      "source": [
        "#scaling\n",
        "final_df = df/df.max()\n",
        "final_df.head()"
      ],
      "execution_count": 20,
      "outputs": [
        {
          "output_type": "execute_result",
          "data": {
            "text/html": [
              "<div>\n",
              "<style scoped>\n",
              "    .dataframe tbody tr th:only-of-type {\n",
              "        vertical-align: middle;\n",
              "    }\n",
              "\n",
              "    .dataframe tbody tr th {\n",
              "        vertical-align: top;\n",
              "    }\n",
              "\n",
              "    .dataframe thead th {\n",
              "        text-align: right;\n",
              "    }\n",
              "</style>\n",
              "<table border=\"1\" class=\"dataframe\">\n",
              "  <thead>\n",
              "    <tr style=\"text-align: right;\">\n",
              "      <th></th>\n",
              "      <th>sourceID</th>\n",
              "      <th>sourceAddress</th>\n",
              "      <th>sourceType</th>\n",
              "      <th>sourceLocation</th>\n",
              "      <th>destinationServiceAddress</th>\n",
              "      <th>destinationServiceType</th>\n",
              "      <th>destinationLocation</th>\n",
              "      <th>accessedNodeAddress</th>\n",
              "      <th>accessedNodeType</th>\n",
              "      <th>operation</th>\n",
              "      <th>value</th>\n",
              "    </tr>\n",
              "  </thead>\n",
              "  <tbody>\n",
              "    <tr>\n",
              "      <th>0</th>\n",
              "      <td>0.253012</td>\n",
              "      <td>0.340909</td>\n",
              "      <td>0.285714</td>\n",
              "      <td>0.15</td>\n",
              "      <td>0.357143</td>\n",
              "      <td>0.285714</td>\n",
              "      <td>0.15</td>\n",
              "      <td>0.349112</td>\n",
              "      <td>0.583333</td>\n",
              "      <td>0.666667</td>\n",
              "      <td>0.0</td>\n",
              "    </tr>\n",
              "    <tr>\n",
              "      <th>1</th>\n",
              "      <td>0.385542</td>\n",
              "      <td>0.795455</td>\n",
              "      <td>0.285714</td>\n",
              "      <td>0.20</td>\n",
              "      <td>0.809524</td>\n",
              "      <td>0.285714</td>\n",
              "      <td>0.20</td>\n",
              "      <td>0.792899</td>\n",
              "      <td>0.583333</td>\n",
              "      <td>0.666667</td>\n",
              "      <td>0.0</td>\n",
              "    </tr>\n",
              "    <tr>\n",
              "      <th>2</th>\n",
              "      <td>0.180723</td>\n",
              "      <td>0.011364</td>\n",
              "      <td>0.285714</td>\n",
              "      <td>0.10</td>\n",
              "      <td>0.000000</td>\n",
              "      <td>0.285714</td>\n",
              "      <td>0.10</td>\n",
              "      <td>0.000000</td>\n",
              "      <td>0.583333</td>\n",
              "      <td>0.666667</td>\n",
              "      <td>0.0</td>\n",
              "    </tr>\n",
              "    <tr>\n",
              "      <th>3</th>\n",
              "      <td>0.397590</td>\n",
              "      <td>0.875000</td>\n",
              "      <td>0.285714</td>\n",
              "      <td>0.35</td>\n",
              "      <td>0.869048</td>\n",
              "      <td>0.285714</td>\n",
              "      <td>0.35</td>\n",
              "      <td>0.852071</td>\n",
              "      <td>0.583333</td>\n",
              "      <td>0.666667</td>\n",
              "      <td>0.0</td>\n",
              "    </tr>\n",
              "    <tr>\n",
              "      <th>4</th>\n",
              "      <td>0.662651</td>\n",
              "      <td>0.886364</td>\n",
              "      <td>0.428571</td>\n",
              "      <td>0.35</td>\n",
              "      <td>0.880952</td>\n",
              "      <td>0.428571</td>\n",
              "      <td>0.35</td>\n",
              "      <td>0.863905</td>\n",
              "      <td>0.666667</td>\n",
              "      <td>0.666667</td>\n",
              "      <td>0.0</td>\n",
              "    </tr>\n",
              "  </tbody>\n",
              "</table>\n",
              "</div>"
            ],
            "text/plain": [
              "   sourceID  sourceAddress  sourceType  ...  accessedNodeType  operation  value\n",
              "0  0.253012       0.340909    0.285714  ...          0.583333   0.666667    0.0\n",
              "1  0.385542       0.795455    0.285714  ...          0.583333   0.666667    0.0\n",
              "2  0.180723       0.011364    0.285714  ...          0.583333   0.666667    0.0\n",
              "3  0.397590       0.875000    0.285714  ...          0.583333   0.666667    0.0\n",
              "4  0.662651       0.886364    0.428571  ...          0.666667   0.666667    0.0\n",
              "\n",
              "[5 rows x 11 columns]"
            ]
          },
          "metadata": {
            "tags": []
          },
          "execution_count": 20
        }
      ]
    },
    {
      "cell_type": "code",
      "metadata": {
        "id": "BN5L-QX0-E0Q",
        "colab_type": "code",
        "outputId": "ab804a5f-e811-4e16-b073-f71fb69c19cb",
        "colab": {
          "base_uri": "https://localhost:8080/",
          "height": 34
        }
      },
      "source": [
        "X = final_df.values\n",
        "# final dataframe has 11 features\n",
        "print(\"Shape of feature matrix : \",X.shape)"
      ],
      "execution_count": 21,
      "outputs": [
        {
          "output_type": "stream",
          "text": [
            "Shape of feature matrix :  (357941, 11)\n"
          ],
          "name": "stdout"
        }
      ]
    },
    {
      "cell_type": "markdown",
      "metadata": {
        "id": "IcxTDr8e-eL_",
        "colab_type": "text"
      },
      "source": [
        "**Using Label encoder to convert threat types into numerics**"
      ]
    },
    {
      "cell_type": "code",
      "metadata": {
        "id": "njopG4_U-Wdl",
        "colab_type": "code",
        "outputId": "c3effe55-0559-4012-9a80-c288ecfe1f1d",
        "colab": {
          "base_uri": "https://localhost:8080/",
          "height": 34
        }
      },
      "source": [
        "threat_types = data[\"normality\"].values\n",
        "encoder = LabelEncoder()\n",
        "y = encoder.fit_transform(threat_types)\n",
        "print(\"Shape of target vector : \",y.shape)"
      ],
      "execution_count": 22,
      "outputs": [
        {
          "output_type": "stream",
          "text": [
            "Shape of target vector :  (357941,)\n"
          ],
          "name": "stdout"
        }
      ]
    },
    {
      "cell_type": "code",
      "metadata": {
        "id": "-oFTL31u-6et",
        "colab_type": "code",
        "outputId": "45ddfa6a-5c04-4233-a3b7-cc65f7e8e7a1",
        "colab": {
          "base_uri": "https://localhost:8080/",
          "height": 34
        }
      },
      "source": [
        "np.unique(y)"
      ],
      "execution_count": 23,
      "outputs": [
        {
          "output_type": "execute_result",
          "data": {
            "text/plain": [
              "array([0, 1, 2, 3, 4, 5, 6, 7])"
            ]
          },
          "metadata": {
            "tags": []
          },
          "execution_count": 23
        }
      ]
    },
    {
      "cell_type": "markdown",
      "metadata": {
        "id": "tw8qr0IY_Hpt",
        "colab_type": "text"
      },
      "source": [
        "**Test Train Split**"
      ]
    },
    {
      "cell_type": "code",
      "metadata": {
        "id": "GckNgx1K_DM_",
        "colab_type": "code",
        "outputId": "babefade-4f96-490b-903b-a9440ca6e4ab",
        "colab": {
          "base_uri": "https://localhost:8080/",
          "height": 86
        }
      },
      "source": [
        "from sklearn.model_selection import train_test_split\n",
        "X_train, X_test, y_train, y_test = train_test_split( X, y, test_size=0.4, random_state=42, stratify=y)\n",
        "print(\"Number of records in training data : \", X_train.shape)\n",
        "print(\"Number of records in test data : \", X_test.shape)\n",
        "print(\"Total distinct number of threat types in training data : \",len(set(y_train)))\n",
        "print(\"Total distinct number of threat types in test data : \",len(set(y_test)))"
      ],
      "execution_count": 24,
      "outputs": [
        {
          "output_type": "stream",
          "text": [
            "Number of records in training data :  (214764, 11)\n",
            "Number of records in test data :  (143177, 11)\n",
            "Total distinct number of threat types in training data :  8\n",
            "Total distinct number of threat types in test data :  8\n"
          ],
          "name": "stdout"
        }
      ]
    },
    {
      "cell_type": "code",
      "metadata": {
        "id": "z0XrqRsM_V4B",
        "colab_type": "code",
        "colab": {}
      },
      "source": [
        "#!pip install syft"
      ],
      "execution_count": 0,
      "outputs": []
    },
    {
      "cell_type": "code",
      "metadata": {
        "id": "MI6LgPzm_P-B",
        "colab_type": "code",
        "colab": {
          "base_uri": "https://localhost:8080/",
          "height": 34
        },
        "outputId": "3ec28f36-5c65-4c35-f759-ba17db4e6b84"
      },
      "source": [
        "import torch as th\n",
        "import syft as sy\n",
        "\n",
        "# Hook PyTorch ie add extra functionalities to support Federated Learning\n",
        "hook = sy.TorchHook(th)\n",
        "# Sets the seed for generating random numbers.\n",
        "th.manual_seed(1)\n",
        "# Select CPU computation, in case you want GPU use \"cuda\" instead\n",
        "device = th.device(\"cpu\")\n",
        "# Data will be distributed among these VirtualWorkers.\n",
        "# Remote training of the model will happen here: gateway1 and gateway2\n",
        "gateway1 = sy.VirtualWorker(hook, id=\"gateway1\")\n",
        "gateway2 = sy.VirtualWorker(hook, id=\"gateway2\")"
      ],
      "execution_count": 25,
      "outputs": [
        {
          "output_type": "stream",
          "text": [
            "WARNING:root:Torch was already hooked... skipping hooking process\n"
          ],
          "name": "stderr"
        }
      ]
    },
    {
      "cell_type": "code",
      "metadata": {
        "id": "WlI2mg32_UGs",
        "colab_type": "code",
        "outputId": "7cc81727-b945-425e-b55f-ba05d26cf623",
        "colab": {
          "base_uri": "https://localhost:8080/",
          "height": 52
        }
      },
      "source": [
        "# Number of times we want to iterate over whole training data\n",
        "BATCH_SIZE = 1000\n",
        "EPOCHS = 5\n",
        "LOG_INTERVAL = 5\n",
        "lr = 0.01\n",
        "\n",
        "n_feature = X_train.shape[1]\n",
        "n_class = np.unique(y_train).shape[0]\n",
        "\n",
        "print(\"Number of training features : \",n_feature)\n",
        "print(\"Number of training classes : \",n_class)"
      ],
      "execution_count": 26,
      "outputs": [
        {
          "output_type": "stream",
          "text": [
            "Number of training features :  11\n",
            "Number of training classes :  8\n"
          ],
          "name": "stdout"
        }
      ]
    },
    {
      "cell_type": "code",
      "metadata": {
        "id": "LL46EM6DA42O",
        "colab_type": "code",
        "colab": {}
      },
      "source": [
        "# Create pytorch tensor from X_train,y_train,X_test,y_test\n",
        "train_inputs = th.tensor(X_train,dtype=th.float)\n",
        "train_labels = th.tensor(y_train)\n",
        "test_inputs = th.tensor(X_test,dtype=th.float)\n",
        "test_labels = th.tensor(y_test)\n",
        "\n",
        "# Send the training and test data to the gatways in equal proportion.\n",
        "# since there are two gateways we are splitting into two : \n",
        "train_idx = int(len(train_labels)/2)\n",
        "test_idx = int(len(test_labels)/2)\n",
        "gateway1_train_dataset = sy.BaseDataset(train_inputs[:train_idx], train_labels[:train_idx]).send(gateway1)\n",
        "gateway2_train_dataset = sy.BaseDataset(train_inputs[train_idx:], train_labels[train_idx:]).send(gateway2)\n",
        "gateway1_test_dataset = sy.BaseDataset(test_inputs[:test_idx], test_labels[:test_idx]).send(gateway1)\n",
        "gateway2_test_dataset = sy.BaseDataset(test_inputs[test_idx:], test_labels[test_idx:]).send(gateway2)\n",
        "\n",
        "# Create federated datasets, an extension of Pytorch TensorDataset class\n",
        "federated_train_dataset = sy.FederatedDataset([gateway1_train_dataset, gateway2_train_dataset])\n",
        "federated_test_dataset = sy.FederatedDataset([gateway1_test_dataset, gateway2_test_dataset])\n",
        "\n",
        "# Create federated dataloaders, an extension of Pytorch DataLoader class\n",
        "federated_train_loader = sy.FederatedDataLoader(federated_train_dataset, shuffle=True, batch_size=BATCH_SIZE)\n",
        "federated_test_loader = sy.FederatedDataLoader(federated_test_dataset, shuffle=False, batch_size=BATCH_SIZE)"
      ],
      "execution_count": 0,
      "outputs": []
    },
    {
      "cell_type": "markdown",
      "metadata": {
        "id": "N9XNUUYEBHTW",
        "colab_type": "text"
      },
      "source": [
        "**Constructing Neural Network**"
      ]
    },
    {
      "cell_type": "code",
      "metadata": {
        "id": "kdvXKpUPBEPL",
        "colab_type": "code",
        "colab": {}
      },
      "source": [
        "import torch.nn as nn\n",
        "class Net(nn.Module):\n",
        "    def __init__(self, input_dim, output_dim):\n",
        "        \"\"\"\n",
        "        input_dim: number of input features.\n",
        "        output_dim: number of labels.\n",
        "        \"\"\"\n",
        "        super(Net, self).__init__()\n",
        "        self.linear = th.nn.Linear(input_dim, output_dim)\n",
        "    def forward(self, x):\n",
        "        outputs = self.linear(x)\n",
        "        return outputs"
      ],
      "execution_count": 0,
      "outputs": []
    },
    {
      "cell_type": "markdown",
      "metadata": {
        "id": "2uY5htmvBSXF",
        "colab_type": "text"
      },
      "source": [
        "**Training Using Neural Network**"
      ]
    },
    {
      "cell_type": "code",
      "metadata": {
        "id": "O-s58XwuBPAT",
        "colab_type": "code",
        "colab": {}
      },
      "source": [
        "import torch.nn.functional as F\n",
        "\n",
        "def train(model, device, federated_train_loader, optimizer, epoch):\n",
        "    model.train()\n",
        "    # Iterate through each gateway's dataset\n",
        "    for idx, (data, target) in enumerate(federated_train_loader):\n",
        "        batch_idx = idx+1\n",
        "        # Send the model to the right gateway\n",
        "        model.send(data.location)\n",
        "        # Move the data and target labels to the device (cpu/gpu) for computation\n",
        "        data, target = data.to(device), target.to(device)\n",
        "        # Clear previous gradients (if they exist)\n",
        "        optimizer.zero_grad()\n",
        "        # Make a prediction\n",
        "        output = model(data)\n",
        "        # Calculate the cross entropy loss [We are doing classification]\n",
        "        loss = F.cross_entropy(output, target)\n",
        "        # Calculate the gradients\n",
        "        loss.backward()\n",
        "        # Update the model weights\n",
        "        optimizer.step()\n",
        "        # Get the model back from the gateway\n",
        "        model.get()\n",
        "        if batch_idx==len(federated_train_loader) or (batch_idx!=0 and batch_idx % LOG_INTERVAL == 0):\n",
        "            # get the loss back\n",
        "            loss = loss.get()\n",
        "            print('Train Epoch: {} [{}/{} ({:.0f}%)]\\tLoss: {:.6f}'.format(\n",
        "                epoch, batch_idx * BATCH_SIZE, len(federated_train_loader) * BATCH_SIZE,\n",
        "                100. * batch_idx / len(federated_train_loader), loss.item()))"
      ],
      "execution_count": 0,
      "outputs": []
    },
    {
      "cell_type": "code",
      "metadata": {
        "id": "ke2GNqToBags",
        "colab_type": "code",
        "colab": {}
      },
      "source": [
        "def test(model, device, federated_test_loader):\n",
        "    model.eval()\n",
        "    correct = 0\n",
        "    with th.no_grad():\n",
        "        for batch_idx, (data, target) in enumerate(federated_test_loader):\n",
        "            # Send the model to the right gateway\n",
        "            model.send(data.location)\n",
        "            # Move the data and target labels to the device (cpu/gpu) for computation\n",
        "            data, target = data.to(device), target.to(device)\n",
        "            # Make a prediction\n",
        "            output = model(data)\n",
        "            # Get the model back from the gateway\n",
        "            model.get()\n",
        "            # Calculate the cross entropy loss\n",
        "            loss = F.cross_entropy(output, target)\n",
        "            # Get the index of the max log-probability \n",
        "            pred = output.argmax(1, keepdim=True)\n",
        "            # Get the number of instances correctly predicted\n",
        "            correct += pred.eq(target.view_as(pred)).sum().get()\n",
        "                \n",
        "    # get the loss back\n",
        "    loss = loss.get()\n",
        "    print('Test set: Loss: {:.4f}, Accuracy: {}/{} ({:.0f}%)\\n'.format(\n",
        "        loss.item(), correct, len(federated_test_loader.federated_dataset),\n",
        "        100. * correct / len(federated_test_loader.federated_dataset)))"
      ],
      "execution_count": 0,
      "outputs": []
    },
    {
      "cell_type": "code",
      "metadata": {
        "id": "RgO6SSZhBeX_",
        "colab_type": "code",
        "outputId": "8a467e86-9413-4b92-9a7a-6904494dfbcc",
        "colab": {
          "base_uri": "https://localhost:8080/",
          "height": 1000
        }
      },
      "source": [
        "%%time\n",
        "import torch.optim as optim\n",
        "\n",
        "# Initialize the model\n",
        "model = Net(n_feature,n_class)\n",
        "\n",
        "#Initialize the SGD optimizer\n",
        "optimizer = optim.SGD(model.parameters(), lr=lr)\n",
        "\n",
        "for epoch in range(1, 5 + 1):\n",
        "    # Train on the training data in a federated way\n",
        "    train(model, device, federated_train_loader, optimizer, epoch)\n",
        "    # Check the test accuracy on unseen test data in a federated way\n",
        "    test(model, device, federated_test_loader)"
      ],
      "execution_count": 31,
      "outputs": [
        {
          "output_type": "stream",
          "text": [
            "Train Epoch: 1 [5000/215000 (2%)]\tLoss: 2.455962\n",
            "Train Epoch: 1 [10000/215000 (5%)]\tLoss: 2.335189\n",
            "Train Epoch: 1 [15000/215000 (7%)]\tLoss: 2.188545\n",
            "Train Epoch: 1 [20000/215000 (9%)]\tLoss: 2.062961\n",
            "Train Epoch: 1 [25000/215000 (12%)]\tLoss: 1.935561\n",
            "Train Epoch: 1 [30000/215000 (14%)]\tLoss: 1.809717\n",
            "Train Epoch: 1 [35000/215000 (16%)]\tLoss: 1.692362\n",
            "Train Epoch: 1 [40000/215000 (19%)]\tLoss: 1.592702\n",
            "Train Epoch: 1 [45000/215000 (21%)]\tLoss: 1.497311\n",
            "Train Epoch: 1 [50000/215000 (23%)]\tLoss: 1.394139\n",
            "Train Epoch: 1 [55000/215000 (26%)]\tLoss: 1.303148\n",
            "Train Epoch: 1 [60000/215000 (28%)]\tLoss: 1.218800\n",
            "Train Epoch: 1 [65000/215000 (30%)]\tLoss: 1.156517\n",
            "Train Epoch: 1 [70000/215000 (33%)]\tLoss: 1.087515\n",
            "Train Epoch: 1 [75000/215000 (35%)]\tLoss: 1.046082\n",
            "Train Epoch: 1 [80000/215000 (37%)]\tLoss: 0.953104\n",
            "Train Epoch: 1 [85000/215000 (40%)]\tLoss: 0.922632\n",
            "Train Epoch: 1 [90000/215000 (42%)]\tLoss: 0.877691\n",
            "Train Epoch: 1 [95000/215000 (44%)]\tLoss: 0.825297\n",
            "Train Epoch: 1 [100000/215000 (47%)]\tLoss: 0.796299\n",
            "Train Epoch: 1 [105000/215000 (49%)]\tLoss: 0.762458\n",
            "Train Epoch: 1 [110000/215000 (51%)]\tLoss: 0.757720\n",
            "Train Epoch: 1 [115000/215000 (53%)]\tLoss: 0.705742\n",
            "Train Epoch: 1 [120000/215000 (56%)]\tLoss: 0.664045\n",
            "Train Epoch: 1 [125000/215000 (58%)]\tLoss: 0.652318\n",
            "Train Epoch: 1 [130000/215000 (60%)]\tLoss: 0.624467\n",
            "Train Epoch: 1 [135000/215000 (63%)]\tLoss: 0.624469\n",
            "Train Epoch: 1 [140000/215000 (65%)]\tLoss: 0.595705\n",
            "Train Epoch: 1 [145000/215000 (67%)]\tLoss: 0.589176\n",
            "Train Epoch: 1 [150000/215000 (70%)]\tLoss: 0.540858\n",
            "Train Epoch: 1 [155000/215000 (72%)]\tLoss: 0.530084\n",
            "Train Epoch: 1 [160000/215000 (74%)]\tLoss: 0.507788\n",
            "Train Epoch: 1 [165000/215000 (77%)]\tLoss: 0.464906\n",
            "Train Epoch: 1 [170000/215000 (79%)]\tLoss: 0.506629\n",
            "Train Epoch: 1 [175000/215000 (81%)]\tLoss: 0.498684\n",
            "Train Epoch: 1 [180000/215000 (84%)]\tLoss: 0.478707\n",
            "Train Epoch: 1 [185000/215000 (86%)]\tLoss: 0.456275\n",
            "Train Epoch: 1 [190000/215000 (88%)]\tLoss: 0.432516\n",
            "Train Epoch: 1 [195000/215000 (91%)]\tLoss: 0.425393\n",
            "Train Epoch: 1 [200000/215000 (93%)]\tLoss: 0.422190\n",
            "Train Epoch: 1 [205000/215000 (95%)]\tLoss: 0.437205\n",
            "Train Epoch: 1 [210000/215000 (98%)]\tLoss: 0.415556\n",
            "Train Epoch: 1 [215000/215000 (100%)]\tLoss: 0.389712\n",
            "Test set: Loss: 0.4370, Accuracy: 139170/143177 (97%)\n",
            "\n",
            "Train Epoch: 2 [5000/215000 (2%)]\tLoss: 0.373919\n",
            "Train Epoch: 2 [10000/215000 (5%)]\tLoss: 0.387071\n",
            "Train Epoch: 2 [15000/215000 (7%)]\tLoss: 0.353052\n",
            "Train Epoch: 2 [20000/215000 (9%)]\tLoss: 0.377975\n",
            "Train Epoch: 2 [25000/215000 (12%)]\tLoss: 0.357606\n",
            "Train Epoch: 2 [30000/215000 (14%)]\tLoss: 0.419853\n",
            "Train Epoch: 2 [35000/215000 (16%)]\tLoss: 0.338521\n",
            "Train Epoch: 2 [40000/215000 (19%)]\tLoss: 0.342879\n",
            "Train Epoch: 2 [45000/215000 (21%)]\tLoss: 0.368771\n",
            "Train Epoch: 2 [50000/215000 (23%)]\tLoss: 0.323427\n",
            "Train Epoch: 2 [55000/215000 (26%)]\tLoss: 0.343809\n",
            "Train Epoch: 2 [60000/215000 (28%)]\tLoss: 0.362738\n",
            "Train Epoch: 2 [65000/215000 (30%)]\tLoss: 0.355696\n",
            "Train Epoch: 2 [70000/215000 (33%)]\tLoss: 0.300323\n",
            "Train Epoch: 2 [75000/215000 (35%)]\tLoss: 0.348972\n",
            "Train Epoch: 2 [80000/215000 (37%)]\tLoss: 0.317433\n",
            "Train Epoch: 2 [85000/215000 (40%)]\tLoss: 0.313673\n",
            "Train Epoch: 2 [90000/215000 (42%)]\tLoss: 0.339186\n",
            "Train Epoch: 2 [95000/215000 (44%)]\tLoss: 0.344487\n",
            "Train Epoch: 2 [100000/215000 (47%)]\tLoss: 0.290217\n",
            "Train Epoch: 2 [105000/215000 (49%)]\tLoss: 0.307905\n",
            "Train Epoch: 2 [110000/215000 (51%)]\tLoss: 0.312303\n",
            "Train Epoch: 2 [115000/215000 (53%)]\tLoss: 0.310385\n",
            "Train Epoch: 2 [120000/215000 (56%)]\tLoss: 0.286639\n",
            "Train Epoch: 2 [125000/215000 (58%)]\tLoss: 0.302801\n",
            "Train Epoch: 2 [130000/215000 (60%)]\tLoss: 0.296084\n",
            "Train Epoch: 2 [135000/215000 (63%)]\tLoss: 0.329296\n",
            "Train Epoch: 2 [140000/215000 (65%)]\tLoss: 0.276964\n",
            "Train Epoch: 2 [145000/215000 (67%)]\tLoss: 0.289215\n",
            "Train Epoch: 2 [150000/215000 (70%)]\tLoss: 0.299297\n",
            "Train Epoch: 2 [155000/215000 (72%)]\tLoss: 0.292354\n",
            "Train Epoch: 2 [160000/215000 (74%)]\tLoss: 0.267338\n",
            "Train Epoch: 2 [165000/215000 (77%)]\tLoss: 0.239980\n",
            "Train Epoch: 2 [170000/215000 (79%)]\tLoss: 0.265016\n",
            "Train Epoch: 2 [175000/215000 (81%)]\tLoss: 0.287002\n",
            "Train Epoch: 2 [180000/215000 (84%)]\tLoss: 0.292845\n",
            "Train Epoch: 2 [185000/215000 (86%)]\tLoss: 0.281911\n",
            "Train Epoch: 2 [190000/215000 (88%)]\tLoss: 0.254609\n",
            "Train Epoch: 2 [195000/215000 (91%)]\tLoss: 0.282877\n",
            "Train Epoch: 2 [200000/215000 (93%)]\tLoss: 0.276551\n",
            "Train Epoch: 2 [205000/215000 (95%)]\tLoss: 0.247752\n",
            "Train Epoch: 2 [210000/215000 (98%)]\tLoss: 0.272164\n",
            "Train Epoch: 2 [215000/215000 (100%)]\tLoss: 0.261915\n",
            "Test set: Loss: 0.3103, Accuracy: 139170/143177 (97%)\n",
            "\n",
            "Train Epoch: 3 [5000/215000 (2%)]\tLoss: 0.303411\n",
            "Train Epoch: 3 [10000/215000 (5%)]\tLoss: 0.230877\n",
            "Train Epoch: 3 [15000/215000 (7%)]\tLoss: 0.284742\n",
            "Train Epoch: 3 [20000/215000 (9%)]\tLoss: 0.233155\n",
            "Train Epoch: 3 [25000/215000 (12%)]\tLoss: 0.271281\n",
            "Train Epoch: 3 [30000/215000 (14%)]\tLoss: 0.261679\n",
            "Train Epoch: 3 [35000/215000 (16%)]\tLoss: 0.289799\n",
            "Train Epoch: 3 [40000/215000 (19%)]\tLoss: 0.325393\n",
            "Train Epoch: 3 [45000/215000 (21%)]\tLoss: 0.285987\n",
            "Train Epoch: 3 [50000/215000 (23%)]\tLoss: 0.278723\n",
            "Train Epoch: 3 [55000/215000 (26%)]\tLoss: 0.254858\n",
            "Train Epoch: 3 [60000/215000 (28%)]\tLoss: 0.238439\n",
            "Train Epoch: 3 [65000/215000 (30%)]\tLoss: 0.242986\n",
            "Train Epoch: 3 [70000/215000 (33%)]\tLoss: 0.262194\n",
            "Train Epoch: 3 [75000/215000 (35%)]\tLoss: 0.262725\n",
            "Train Epoch: 3 [80000/215000 (37%)]\tLoss: 0.252264\n",
            "Train Epoch: 3 [85000/215000 (40%)]\tLoss: 0.235456\n",
            "Train Epoch: 3 [90000/215000 (42%)]\tLoss: 0.204029\n",
            "Train Epoch: 3 [95000/215000 (44%)]\tLoss: 0.234334\n",
            "Train Epoch: 3 [100000/215000 (47%)]\tLoss: 0.225218\n",
            "Train Epoch: 3 [105000/215000 (49%)]\tLoss: 0.266468\n",
            "Train Epoch: 3 [110000/215000 (51%)]\tLoss: 0.258837\n",
            "Train Epoch: 3 [115000/215000 (53%)]\tLoss: 0.211538\n",
            "Train Epoch: 3 [120000/215000 (56%)]\tLoss: 0.266654\n",
            "Train Epoch: 3 [125000/215000 (58%)]\tLoss: 0.223129\n",
            "Train Epoch: 3 [130000/215000 (60%)]\tLoss: 0.243758\n",
            "Train Epoch: 3 [135000/215000 (63%)]\tLoss: 0.237884\n",
            "Train Epoch: 3 [140000/215000 (65%)]\tLoss: 0.218341\n",
            "Train Epoch: 3 [145000/215000 (67%)]\tLoss: 0.242690\n",
            "Train Epoch: 3 [150000/215000 (70%)]\tLoss: 0.224525\n",
            "Train Epoch: 3 [155000/215000 (72%)]\tLoss: 0.222031\n",
            "Train Epoch: 3 [160000/215000 (74%)]\tLoss: 0.235915\n",
            "Train Epoch: 3 [165000/215000 (77%)]\tLoss: 0.273527\n",
            "Train Epoch: 3 [170000/215000 (79%)]\tLoss: 0.245048\n",
            "Train Epoch: 3 [175000/215000 (81%)]\tLoss: 0.268956\n",
            "Train Epoch: 3 [180000/215000 (84%)]\tLoss: 0.218789\n",
            "Train Epoch: 3 [185000/215000 (86%)]\tLoss: 0.267616\n",
            "Train Epoch: 3 [190000/215000 (88%)]\tLoss: 0.217221\n",
            "Train Epoch: 3 [195000/215000 (91%)]\tLoss: 0.230869\n",
            "Train Epoch: 3 [200000/215000 (93%)]\tLoss: 0.229346\n",
            "Train Epoch: 3 [205000/215000 (95%)]\tLoss: 0.220533\n",
            "Train Epoch: 3 [210000/215000 (98%)]\tLoss: 0.227241\n",
            "Train Epoch: 3 [215000/215000 (100%)]\tLoss: 0.199580\n",
            "Test set: Loss: 0.2787, Accuracy: 139170/143177 (97%)\n",
            "\n",
            "Train Epoch: 4 [5000/215000 (2%)]\tLoss: 0.242647\n",
            "Train Epoch: 4 [10000/215000 (5%)]\tLoss: 0.261830\n",
            "Train Epoch: 4 [15000/215000 (7%)]\tLoss: 0.228047\n",
            "Train Epoch: 4 [20000/215000 (9%)]\tLoss: 0.270787\n",
            "Train Epoch: 4 [25000/215000 (12%)]\tLoss: 0.234271\n",
            "Train Epoch: 4 [30000/215000 (14%)]\tLoss: 0.190736\n",
            "Train Epoch: 4 [35000/215000 (16%)]\tLoss: 0.214654\n",
            "Train Epoch: 4 [40000/215000 (19%)]\tLoss: 0.296718\n",
            "Train Epoch: 4 [45000/215000 (21%)]\tLoss: 0.220704\n",
            "Train Epoch: 4 [50000/215000 (23%)]\tLoss: 0.235145\n",
            "Train Epoch: 4 [55000/215000 (26%)]\tLoss: 0.205937\n",
            "Train Epoch: 4 [60000/215000 (28%)]\tLoss: 0.210830\n",
            "Train Epoch: 4 [65000/215000 (30%)]\tLoss: 0.165792\n",
            "Train Epoch: 4 [70000/215000 (33%)]\tLoss: 0.223548\n",
            "Train Epoch: 4 [75000/215000 (35%)]\tLoss: 0.197016\n",
            "Train Epoch: 4 [80000/215000 (37%)]\tLoss: 0.197120\n",
            "Train Epoch: 4 [85000/215000 (40%)]\tLoss: 0.191746\n",
            "Train Epoch: 4 [90000/215000 (42%)]\tLoss: 0.244698\n",
            "Train Epoch: 4 [95000/215000 (44%)]\tLoss: 0.168258\n",
            "Train Epoch: 4 [100000/215000 (47%)]\tLoss: 0.189353\n",
            "Train Epoch: 4 [105000/215000 (49%)]\tLoss: 0.260006\n",
            "Train Epoch: 4 [110000/215000 (51%)]\tLoss: 0.250054\n",
            "Train Epoch: 4 [115000/215000 (53%)]\tLoss: 0.216052\n",
            "Train Epoch: 4 [120000/215000 (56%)]\tLoss: 0.171887\n",
            "Train Epoch: 4 [125000/215000 (58%)]\tLoss: 0.242250\n",
            "Train Epoch: 4 [130000/215000 (60%)]\tLoss: 0.206508\n",
            "Train Epoch: 4 [135000/215000 (63%)]\tLoss: 0.206051\n",
            "Train Epoch: 4 [140000/215000 (65%)]\tLoss: 0.276867\n",
            "Train Epoch: 4 [145000/215000 (67%)]\tLoss: 0.261064\n",
            "Train Epoch: 4 [150000/215000 (70%)]\tLoss: 0.254309\n",
            "Train Epoch: 4 [155000/215000 (72%)]\tLoss: 0.253100\n",
            "Train Epoch: 4 [160000/215000 (74%)]\tLoss: 0.222088\n",
            "Train Epoch: 4 [165000/215000 (77%)]\tLoss: 0.234752\n",
            "Train Epoch: 4 [170000/215000 (79%)]\tLoss: 0.215221\n",
            "Train Epoch: 4 [175000/215000 (81%)]\tLoss: 0.216881\n",
            "Train Epoch: 4 [180000/215000 (84%)]\tLoss: 0.231920\n",
            "Train Epoch: 4 [185000/215000 (86%)]\tLoss: 0.261014\n",
            "Train Epoch: 4 [190000/215000 (88%)]\tLoss: 0.228270\n",
            "Train Epoch: 4 [195000/215000 (91%)]\tLoss: 0.183061\n",
            "Train Epoch: 4 [200000/215000 (93%)]\tLoss: 0.185529\n",
            "Train Epoch: 4 [205000/215000 (95%)]\tLoss: 0.179080\n",
            "Train Epoch: 4 [210000/215000 (98%)]\tLoss: 0.202086\n",
            "Train Epoch: 4 [215000/215000 (100%)]\tLoss: 0.165821\n",
            "Test set: Loss: 0.2658, Accuracy: 139170/143177 (97%)\n",
            "\n",
            "Train Epoch: 5 [5000/215000 (2%)]\tLoss: 0.203098\n",
            "Train Epoch: 5 [10000/215000 (5%)]\tLoss: 0.247917\n",
            "Train Epoch: 5 [15000/215000 (7%)]\tLoss: 0.200832\n",
            "Train Epoch: 5 [20000/215000 (9%)]\tLoss: 0.215396\n",
            "Train Epoch: 5 [25000/215000 (12%)]\tLoss: 0.208196\n",
            "Train Epoch: 5 [30000/215000 (14%)]\tLoss: 0.236322\n",
            "Train Epoch: 5 [35000/215000 (16%)]\tLoss: 0.202199\n",
            "Train Epoch: 5 [40000/215000 (19%)]\tLoss: 0.232585\n",
            "Train Epoch: 5 [45000/215000 (21%)]\tLoss: 0.232770\n",
            "Train Epoch: 5 [50000/215000 (23%)]\tLoss: 0.241059\n",
            "Train Epoch: 5 [55000/215000 (26%)]\tLoss: 0.221323\n",
            "Train Epoch: 5 [60000/215000 (28%)]\tLoss: 0.221908\n",
            "Train Epoch: 5 [65000/215000 (30%)]\tLoss: 0.240221\n",
            "Train Epoch: 5 [70000/215000 (33%)]\tLoss: 0.186308\n",
            "Train Epoch: 5 [75000/215000 (35%)]\tLoss: 0.231651\n",
            "Train Epoch: 5 [80000/215000 (37%)]\tLoss: 0.209971\n",
            "Train Epoch: 5 [85000/215000 (40%)]\tLoss: 0.207705\n",
            "Train Epoch: 5 [90000/215000 (42%)]\tLoss: 0.225162\n",
            "Train Epoch: 5 [95000/215000 (44%)]\tLoss: 0.147080\n",
            "Train Epoch: 5 [100000/215000 (47%)]\tLoss: 0.233589\n",
            "Train Epoch: 5 [105000/215000 (49%)]\tLoss: 0.222567\n",
            "Train Epoch: 5 [110000/215000 (51%)]\tLoss: 0.226774\n",
            "Train Epoch: 5 [115000/215000 (53%)]\tLoss: 0.181746\n",
            "Train Epoch: 5 [120000/215000 (56%)]\tLoss: 0.176277\n",
            "Train Epoch: 5 [125000/215000 (58%)]\tLoss: 0.236039\n",
            "Train Epoch: 5 [130000/215000 (60%)]\tLoss: 0.229270\n",
            "Train Epoch: 5 [135000/215000 (63%)]\tLoss: 0.210446\n",
            "Train Epoch: 5 [140000/215000 (65%)]\tLoss: 0.186431\n",
            "Train Epoch: 5 [145000/215000 (67%)]\tLoss: 0.236388\n",
            "Train Epoch: 5 [150000/215000 (70%)]\tLoss: 0.182306\n",
            "Train Epoch: 5 [155000/215000 (72%)]\tLoss: 0.204604\n",
            "Train Epoch: 5 [160000/215000 (74%)]\tLoss: 0.238623\n",
            "Train Epoch: 5 [165000/215000 (77%)]\tLoss: 0.274734\n",
            "Train Epoch: 5 [170000/215000 (79%)]\tLoss: 0.217529\n",
            "Train Epoch: 5 [175000/215000 (81%)]\tLoss: 0.247345\n",
            "Train Epoch: 5 [180000/215000 (84%)]\tLoss: 0.201603\n",
            "Train Epoch: 5 [185000/215000 (86%)]\tLoss: 0.188711\n",
            "Train Epoch: 5 [190000/215000 (88%)]\tLoss: 0.211442\n",
            "Train Epoch: 5 [195000/215000 (91%)]\tLoss: 0.189976\n",
            "Train Epoch: 5 [200000/215000 (93%)]\tLoss: 0.163617\n",
            "Train Epoch: 5 [205000/215000 (95%)]\tLoss: 0.230132\n",
            "Train Epoch: 5 [210000/215000 (98%)]\tLoss: 0.224275\n",
            "Train Epoch: 5 [215000/215000 (100%)]\tLoss: 0.238241\n",
            "Test set: Loss: 0.2590, Accuracy: 139170/143177 (97%)\n",
            "\n",
            "CPU times: user 15min 31s, sys: 1min, total: 16min 31s\n",
            "Wall time: 16min 30s\n"
          ],
          "name": "stdout"
        }
      ]
    },
    {
      "cell_type": "code",
      "metadata": {
        "id": "fUP_l6qlBrfi",
        "colab_type": "code",
        "outputId": "207f4b1f-cba4-4520-e559-4dd6a621c369",
        "colab": {
          "base_uri": "https://localhost:8080/",
          "height": 69
        }
      },
      "source": [
        "from google.colab import files\n",
        "# Save the model\n",
        "th.save(model.state_dict(), \"network-threat-kaggle-model.pt\")\n",
        "#Download Model\n",
        "files.download('network-threat-kaggle-model.pt')\n",
        "# Reload the model in a new model object\n",
        "model_new = Net(n_feature,n_class)\n",
        "model_new.load_state_dict(th.load(\"network-threat-kaggle-model.pt\"))\n",
        "model_new.eval()"
      ],
      "execution_count": 32,
      "outputs": [
        {
          "output_type": "execute_result",
          "data": {
            "text/plain": [
              "Net(\n",
              "  (linear): Linear(in_features=11, out_features=8, bias=True)\n",
              ")"
            ]
          },
          "metadata": {
            "tags": []
          },
          "execution_count": 32
        }
      ]
    },
    {
      "cell_type": "code",
      "metadata": {
        "id": "rPlWoT4OB837",
        "colab_type": "code",
        "outputId": "bb896118-f6b9-49d1-b091-780bc412dde1",
        "colab": {
          "base_uri": "https://localhost:8080/",
          "height": 52
        }
      },
      "source": [
        "# Take the 122th record from the test data\n",
        "idx = 122\n",
        "data = test_inputs[idx]\n",
        "pred = model_new(data)\n",
        "pred_label = int(pred.argmax().data.cpu().numpy())\n",
        "pred_threat = encoder.inverse_transform([pred_label])[0]\n",
        "print(\"Predicted threat type : \", pred_threat)\n",
        "actual_label = int(test_labels[idx].data.cpu().numpy())\n",
        "actual_threat = encoder.inverse_transform([actual_label])[0]\n",
        "print(\"Actual threat type : \", actual_threat)"
      ],
      "execution_count": 33,
      "outputs": [
        {
          "output_type": "stream",
          "text": [
            "Predicted threat type :  normal\n",
            "Actual threat type :  normal\n"
          ],
          "name": "stdout"
        }
      ]
    }
  ]
}